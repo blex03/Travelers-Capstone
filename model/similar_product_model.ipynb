{
 "cells": [
  {
   "cell_type": "code",
   "execution_count": 19,
   "metadata": {},
   "outputs": [],
   "source": [
    "import pandas as pd\n",
    "from sklearn.model_selection import train_test_split\n",
    "from sklearn.preprocessing import StandardScaler\n",
    "from sklearn.neighbors import NearestNeighbors\n",
    "from sklearn.metrics import accuracy_score\n",
    "import pickle"
   ]
  },
  {
   "cell_type": "code",
   "execution_count": 20,
   "metadata": {},
   "outputs": [
    {
     "name": "stdout",
     "output_type": "stream",
     "text": [
      "                       name  price  category  popularity  durability  \\\n",
      "0            Iron Man Armor  99.99  Costumes          95          80   \n",
      "1  Captain America's Shield  49.99   Weapons          90          85   \n",
      "2     Thor's Mjolnir Hammer  29.99   Weapons          85          90   \n",
      "3    Spider-Man Web Shooter  19.99    Powers         100          60   \n",
      "4   Black Widow's Gauntlets  45.99   Weapons          85          75   \n",
      "\n",
      "   category_encoded  \n",
      "0                 0  \n",
      "1                 2  \n",
      "2                 2  \n",
      "3                 1  \n",
      "4                 2  \n"
     ]
    },
    {
     "data": {
      "text/plain": [
       "(1043, 6)"
      ]
     },
     "execution_count": 20,
     "metadata": {},
     "output_type": "execute_result"
    }
   ],
   "source": [
    "df = pd.read_csv('avengers_data.csv')\n",
    "print(df.head())\n",
    "df.shape\n"
   ]
  },
  {
   "cell_type": "code",
   "execution_count": 21,
   "metadata": {},
   "outputs": [],
   "source": [
    "features = df[['price', 'popularity', 'durability', 'category_encoded']]\n",
    "scaler = StandardScaler()\n",
    "features_scaled = scaler.fit_transform(features)"
   ]
  },
  {
   "cell_type": "code",
   "execution_count": 25,
   "metadata": {},
   "outputs": [
    {
     "name": "stdout",
     "output_type": "stream",
     "text": [
      "[[ 1.02389165  1.03383321 -0.66950726 -1.3410939 ]\n",
      " [-0.2619367   0.4947431  -0.13433246  0.87564293]\n",
      " [-0.77626804 -0.04434701  0.40084233  0.87564293]\n",
      " ...\n",
      " [ 0.34204609  0.60256112 -0.02729751 -1.3410939 ]\n",
      " [-0.62094064 -0.36780107  0.82898216 -0.23272549]\n",
      " [-0.09487632  0.06347101  1.257122    0.87564293]]\n"
     ]
    }
   ],
   "source": [
    "knn = NearestNeighbors(n_neighbors=5, metric='euclidean')\n",
    "knn.fit(features_scaled)\n",
    "print(features_scaled)"
   ]
  },
  {
   "cell_type": "code",
   "execution_count": 23,
   "metadata": {},
   "outputs": [],
   "source": [
    "with open ('knn_model.pkl', 'wb') as file:\n",
    "    pickle.dump(knn, file)"
   ]
  },
  {
   "cell_type": "code",
   "execution_count": 26,
   "metadata": {},
   "outputs": [
    {
     "name": "stdout",
     "output_type": "stream",
     "text": [
      "[array([-0.2619367 ,  0.4947431 , -0.13433246,  0.87564293])]\n",
      "Indices of nearest neighbors: [[   1  146 1018  170  825]]\n",
      "Distances to nearest neighbors: [[0.         0.1356454  0.17330664 0.24829589 0.27840743]]\n",
      "Nearest neighbors data:\n",
      "                           name      price category  popularity  durability  \\\n",
      "1     Captain America's Shield  49.990000  Weapons          90          85   \n",
      "146   Captain America's Shield  53.190664  Weapons          91          85   \n",
      "1018  Captain America's Shield  46.747322  Weapons          89          84   \n",
      "170    Black Widow's Gauntlets  45.098323  Weapons          90          83   \n",
      "825         Vision's Solar Gem  39.996048  Weapons          90          84   \n",
      "\n",
      "      category_encoded  \n",
      "1                    2  \n",
      "146                  2  \n",
      "1018                 2  \n",
      "170                  2  \n",
      "825                  2  \n"
     ]
    }
   ],
   "source": [
    "data_point_index = 1\n",
    "distances, indices = knn.kneighbors([features_scaled[data_point_index]])\n",
    "print([features_scaled[data_point_index]])\n",
    "\n",
    "# indices and distances of 5 closest neighbors\n",
    "print(\"Indices of nearest neighbors:\", indices)\n",
    "print(\"Distances to nearest neighbors:\", distances)\n",
    "\n",
    "# Five closest neighbors data of index 1\n",
    "nearest_neighbors = df.iloc[indices[0]]\n",
    "print(\"Nearest neighbors data:\\n\", nearest_neighbors)"
   ]
  }
 ],
 "metadata": {
  "kernelspec": {
   "display_name": "Python 3",
   "language": "python",
   "name": "python3"
  },
  "language_info": {
   "codemirror_mode": {
    "name": "ipython",
    "version": 3
   },
   "file_extension": ".py",
   "mimetype": "text/x-python",
   "name": "python",
   "nbconvert_exporter": "python",
   "pygments_lexer": "ipython3",
   "version": "3.12.3"
  }
 },
 "nbformat": 4,
 "nbformat_minor": 2
}
